{
  "nbformat": 4,
  "nbformat_minor": 0,
  "metadata": {
    "colab": {
      "provenance": [],
      "include_colab_link": true
    },
    "kernelspec": {
      "name": "python3",
      "display_name": "Python 3"
    },
    "language_info": {
      "name": "python"
    }
  },
  "cells": [
    {
      "cell_type": "markdown",
      "metadata": {
        "id": "view-in-github",
        "colab_type": "text"
      },
      "source": [
        "<a href=\"https://colab.research.google.com/github/Omowumieru/FDSfE_OErukubami/blob/main/HW2/HW2-Stats_Philly_Parks.ipynb\" target=\"_parent\"><img src=\"https://colab.research.google.com/assets/colab-badge.svg\" alt=\"Open In Colab\"/></a>"
      ]
    },
    {
      "cell_type": "markdown",
      "metadata": {
        "id": "8f3dS08NNI9L"
      },
      "source": [
        "# HW2 : Summary statistics - For GEOG271\n",
        "\n",
        "**By Emmanuel Chinkaka**\n",
        "\n",
        "\n",
        "This homework performs strictly an exploratory analysis of the data\n",
        "\n",
        "Consult the class demo noteboo for more: https://github.com/EmmanuelChinkaka/W23-GEOG271/blob/main/Class_Demo/Descriptive_Stats.ipynb \n",
        "\n",
        "\n",
        "**important**\n",
        "turn in the notebook by uploading it to your github repository in a folder called HW2. Before you upload the notebook make sure you \n",
        "- click above: Runtime -> Restart and run all\n",
        "\n",
        "this will assure that your notebook has no bugs due to running the cells of code out of order.\n"
      ]
    },
    {
      "cell_type": "markdown",
      "source": [
        "**This assigment explores the Philadephia parks data**"
      ],
      "metadata": {
        "id": "Es_iUZSOkU8I"
      }
    },
    {
      "cell_type": "code",
      "execution_count": 65,
      "metadata": {
        "id": "cQ2-f1MR5zO5"
      },
      "outputs": [],
      "source": [
        "# Importing package\n",
        "\n",
        "import pandas as pd\n",
        "import pylab\n",
        "import numpy as np\n",
        "import matplotlib.pyplot as plt\n",
        "import seaborn as sns\n"
      ]
    },
    {
      "cell_type": "markdown",
      "source": [
        "**Read in the data about the Philly parks**\n",
        "\n",
        "you can find the data at http://data-phl.opendata.arcgis.com/datasets/d52445160ab14380a673e5849203eb64_0.csv\n",
        "**Copy the URL above and use it to load the data**"
      ],
      "metadata": {
        "id": "F6UnShk586W3"
      }
    },
    {
      "cell_type": "code",
      "source": [
        "# Reading the Phylly's park data from the URL baove\n",
        "pparks = pd.read_csv(\"http://data-phl.opendata.arcgis.com/datasets/d52445160ab14380a673e5849203eb64_0.csv\")"
      ],
      "metadata": {
        "id": "zMdjrPrt8_Gc"
      },
      "execution_count": 66,
      "outputs": []
    },
    {
      "cell_type": "code",
      "source": [
        "# get the info and the statistical description of the dataframe\n",
        "pparks.info()"
      ],
      "metadata": {
        "id": "Tu-0OQ8ECQEv",
        "colab": {
          "base_uri": "https://localhost:8080/"
        },
        "outputId": "64c21cda-c9d0-49c4-f01b-0dd4307a4d86"
      },
      "execution_count": 67,
      "outputs": [
        {
          "output_type": "stream",
          "name": "stdout",
          "text": [
            "<class 'pandas.core.frame.DataFrame'>\n",
            "RangeIndex: 514 entries, 0 to 513\n",
            "Data columns (total 25 columns):\n",
            " #   Column                   Non-Null Count  Dtype  \n",
            "---  ------                   --------------  -----  \n",
            " 0   OBJECTID                 514 non-null    int64  \n",
            " 1   PUBLIC_NAME              514 non-null    object \n",
            " 2   PARENT_NAME              514 non-null    object \n",
            " 3   NESTED                   514 non-null    object \n",
            " 4   OFFICIAL_NAME            285 non-null    object \n",
            " 5   LABEL                    512 non-null    object \n",
            " 6   ALIAS                    353 non-null    object \n",
            " 7   DPP_ASSET_ID             514 non-null    int64  \n",
            " 8   ADDRESS_911              506 non-null    object \n",
            " 9   ZIP_CODE                 514 non-null    int64  \n",
            " 10  ADDRESS_BRT              430 non-null    object \n",
            " 11  ALIAS_ADDRESS            427 non-null    object \n",
            " 12  ACREAGE                  514 non-null    float64\n",
            " 13  PROPERTY_CLASSIFICATION  514 non-null    object \n",
            " 14  PPR_USE                  514 non-null    object \n",
            " 15  PPR_DISTRICT             0 non-null      float64\n",
            " 16  PPR_OPS_DISTRICT         514 non-null    object \n",
            " 17  COUNCIL_DISTRICT         513 non-null    object \n",
            " 18  POLICE_DISTRICT          513 non-null    object \n",
            " 19  CITY_SCALE_MAPS          514 non-null    object \n",
            " 20  LOCAL_SCALE_MAPS         514 non-null    object \n",
            " 21  PROGRAM_SITES            514 non-null    object \n",
            " 22  COMMENTS                 145 non-null    object \n",
            " 23  Shape__Area              514 non-null    float64\n",
            " 24  Shape__Length            514 non-null    float64\n",
            "dtypes: float64(4), int64(3), object(18)\n",
            "memory usage: 100.5+ KB\n"
          ]
        }
      ]
    },
    {
      "cell_type": "code",
      "metadata": {
        "id": "16pd9FMlPpBA",
        "colab": {
          "base_uri": "https://localhost:8080/"
        },
        "outputId": "f23c301d-0a5c-487a-ede8-a8ec9d67df4f"
      },
      "source": [
        "# show the shape of the parks file dataframe\n",
        "pparks.shape"
      ],
      "execution_count": 68,
      "outputs": [
        {
          "output_type": "execute_result",
          "data": {
            "text/plain": [
              "(514, 25)"
            ]
          },
          "metadata": {},
          "execution_count": 68
        }
      ]
    },
    {
      "cell_type": "code",
      "source": [
        "# show the column names in the dataframe\n",
        "pparks.columns"
      ],
      "metadata": {
        "colab": {
          "base_uri": "https://localhost:8080/"
        },
        "id": "B4qPHupF-cwY",
        "outputId": "c747d624-d3f4-4e7b-c2df-b47f62bf345f"
      },
      "execution_count": 69,
      "outputs": [
        {
          "output_type": "execute_result",
          "data": {
            "text/plain": [
              "Index(['OBJECTID', 'PUBLIC_NAME', 'PARENT_NAME', 'NESTED', 'OFFICIAL_NAME',\n",
              "       'LABEL', 'ALIAS', 'DPP_ASSET_ID', 'ADDRESS_911', 'ZIP_CODE',\n",
              "       'ADDRESS_BRT', 'ALIAS_ADDRESS', 'ACREAGE', 'PROPERTY_CLASSIFICATION',\n",
              "       'PPR_USE', 'PPR_DISTRICT', 'PPR_OPS_DISTRICT', 'COUNCIL_DISTRICT',\n",
              "       'POLICE_DISTRICT', 'CITY_SCALE_MAPS', 'LOCAL_SCALE_MAPS',\n",
              "       'PROGRAM_SITES', 'COMMENTS', 'Shape__Area', 'Shape__Length'],\n",
              "      dtype='object')"
            ]
          },
          "metadata": {},
          "execution_count": 69
        }
      ]
    },
    {
      "cell_type": "code",
      "source": [
        "# show the beginning of the dataframe (the first 5 rows)\n",
        "pparks.head()"
      ],
      "metadata": {
        "colab": {
          "base_uri": "https://localhost:8080/",
          "height": 456
        },
        "id": "RS8Ipjvw-jge",
        "outputId": "6e2e2282-6bb1-40ea-dd33-d811fee864f7"
      },
      "execution_count": 70,
      "outputs": [
        {
          "output_type": "execute_result",
          "data": {
            "text/plain": [
              "   OBJECTID                     PUBLIC_NAME                   PARENT_NAME  \\\n",
              "0         1    Eastwick Regional Playground  Eastwick Regional Playground   \n",
              "1         2        Whitby Avenue Playground              Cobbs Creek Park   \n",
              "2         3          29th and Passyunk Park        29th and Passyunk Park   \n",
              "3         4           Price Street Play Lot         Price Street Play Lot   \n",
              "4         5  Sedgley Woods Disc Golf Course           East Fairmount Park   \n",
              "\n",
              "  NESTED                 OFFICIAL_NAME              LABEL ALIAS  DPP_ASSET_ID  \\\n",
              "0      N  Eastwick Regional Playground  Eastwick Regional   NaN           499   \n",
              "1      Y                           NaN             Whitby                1372   \n",
              "2      N                           NaN  29th and Passyunk                 432   \n",
              "3      N                           NaN           Price St                 826   \n",
              "4      Y                           NaN      Sedgley Woods                3013   \n",
              "\n",
              "            ADDRESS_911  ZIP_CODE  ... PPR_DISTRICT PPR_OPS_DISTRICT  \\\n",
              "0       7899 MERCURY PL     19153  ...          NaN                8   \n",
              "1  1300 COBBS CREEK PKY     19143  ...          NaN                8   \n",
              "2   2827 W PASSYUNK AVE     19145  ...          NaN                7   \n",
              "3        185 W PRICE ST     19144  ...          NaN                4   \n",
              "4     3400 RESERVOIR DR     19121  ...          NaN                5   \n",
              "\n",
              "   COUNCIL_DISTRICT POLICE_DISTRICT CITY_SCALE_MAPS  LOCAL_SCALE_MAPS  \\\n",
              "0                 2              12               Y                 Y   \n",
              "1                 3              12               Y                 Y   \n",
              "2                 2               1               Y                 Y   \n",
              "3                 8              14               Y                 Y   \n",
              "4                 4              22               Y                 Y   \n",
              "\n",
              "  PROGRAM_SITES COMMENTS    Shape__Area Shape__Length  \n",
              "0             Y      NaN  159370.914062   3781.877533  \n",
              "1             Y      NaN   38916.484375    949.498194  \n",
              "2             Y      NaN    3830.242188    247.032048  \n",
              "3             N      NaN    1249.839844    143.734003  \n",
              "4             N      NaN  210135.566406   1984.375466  \n",
              "\n",
              "[5 rows x 25 columns]"
            ],
            "text/html": [
              "\n",
              "  <div id=\"df-e498f86f-5ff8-40c9-b5ec-8573b3816f3f\">\n",
              "    <div class=\"colab-df-container\">\n",
              "      <div>\n",
              "<style scoped>\n",
              "    .dataframe tbody tr th:only-of-type {\n",
              "        vertical-align: middle;\n",
              "    }\n",
              "\n",
              "    .dataframe tbody tr th {\n",
              "        vertical-align: top;\n",
              "    }\n",
              "\n",
              "    .dataframe thead th {\n",
              "        text-align: right;\n",
              "    }\n",
              "</style>\n",
              "<table border=\"1\" class=\"dataframe\">\n",
              "  <thead>\n",
              "    <tr style=\"text-align: right;\">\n",
              "      <th></th>\n",
              "      <th>OBJECTID</th>\n",
              "      <th>PUBLIC_NAME</th>\n",
              "      <th>PARENT_NAME</th>\n",
              "      <th>NESTED</th>\n",
              "      <th>OFFICIAL_NAME</th>\n",
              "      <th>LABEL</th>\n",
              "      <th>ALIAS</th>\n",
              "      <th>DPP_ASSET_ID</th>\n",
              "      <th>ADDRESS_911</th>\n",
              "      <th>ZIP_CODE</th>\n",
              "      <th>...</th>\n",
              "      <th>PPR_DISTRICT</th>\n",
              "      <th>PPR_OPS_DISTRICT</th>\n",
              "      <th>COUNCIL_DISTRICT</th>\n",
              "      <th>POLICE_DISTRICT</th>\n",
              "      <th>CITY_SCALE_MAPS</th>\n",
              "      <th>LOCAL_SCALE_MAPS</th>\n",
              "      <th>PROGRAM_SITES</th>\n",
              "      <th>COMMENTS</th>\n",
              "      <th>Shape__Area</th>\n",
              "      <th>Shape__Length</th>\n",
              "    </tr>\n",
              "  </thead>\n",
              "  <tbody>\n",
              "    <tr>\n",
              "      <th>0</th>\n",
              "      <td>1</td>\n",
              "      <td>Eastwick Regional Playground</td>\n",
              "      <td>Eastwick Regional Playground</td>\n",
              "      <td>N</td>\n",
              "      <td>Eastwick Regional Playground</td>\n",
              "      <td>Eastwick Regional</td>\n",
              "      <td>NaN</td>\n",
              "      <td>499</td>\n",
              "      <td>7899 MERCURY PL</td>\n",
              "      <td>19153</td>\n",
              "      <td>...</td>\n",
              "      <td>NaN</td>\n",
              "      <td>8</td>\n",
              "      <td>2</td>\n",
              "      <td>12</td>\n",
              "      <td>Y</td>\n",
              "      <td>Y</td>\n",
              "      <td>Y</td>\n",
              "      <td>NaN</td>\n",
              "      <td>159370.914062</td>\n",
              "      <td>3781.877533</td>\n",
              "    </tr>\n",
              "    <tr>\n",
              "      <th>1</th>\n",
              "      <td>2</td>\n",
              "      <td>Whitby Avenue Playground</td>\n",
              "      <td>Cobbs Creek Park</td>\n",
              "      <td>Y</td>\n",
              "      <td>NaN</td>\n",
              "      <td>Whitby</td>\n",
              "      <td></td>\n",
              "      <td>1372</td>\n",
              "      <td>1300 COBBS CREEK PKY</td>\n",
              "      <td>19143</td>\n",
              "      <td>...</td>\n",
              "      <td>NaN</td>\n",
              "      <td>8</td>\n",
              "      <td>3</td>\n",
              "      <td>12</td>\n",
              "      <td>Y</td>\n",
              "      <td>Y</td>\n",
              "      <td>Y</td>\n",
              "      <td>NaN</td>\n",
              "      <td>38916.484375</td>\n",
              "      <td>949.498194</td>\n",
              "    </tr>\n",
              "    <tr>\n",
              "      <th>2</th>\n",
              "      <td>3</td>\n",
              "      <td>29th and Passyunk Park</td>\n",
              "      <td>29th and Passyunk Park</td>\n",
              "      <td>N</td>\n",
              "      <td>NaN</td>\n",
              "      <td>29th and Passyunk</td>\n",
              "      <td></td>\n",
              "      <td>432</td>\n",
              "      <td>2827 W PASSYUNK AVE</td>\n",
              "      <td>19145</td>\n",
              "      <td>...</td>\n",
              "      <td>NaN</td>\n",
              "      <td>7</td>\n",
              "      <td>2</td>\n",
              "      <td>1</td>\n",
              "      <td>Y</td>\n",
              "      <td>Y</td>\n",
              "      <td>Y</td>\n",
              "      <td>NaN</td>\n",
              "      <td>3830.242188</td>\n",
              "      <td>247.032048</td>\n",
              "    </tr>\n",
              "    <tr>\n",
              "      <th>3</th>\n",
              "      <td>4</td>\n",
              "      <td>Price Street Play Lot</td>\n",
              "      <td>Price Street Play Lot</td>\n",
              "      <td>N</td>\n",
              "      <td>NaN</td>\n",
              "      <td>Price St</td>\n",
              "      <td></td>\n",
              "      <td>826</td>\n",
              "      <td>185 W PRICE ST</td>\n",
              "      <td>19144</td>\n",
              "      <td>...</td>\n",
              "      <td>NaN</td>\n",
              "      <td>4</td>\n",
              "      <td>8</td>\n",
              "      <td>14</td>\n",
              "      <td>Y</td>\n",
              "      <td>Y</td>\n",
              "      <td>N</td>\n",
              "      <td>NaN</td>\n",
              "      <td>1249.839844</td>\n",
              "      <td>143.734003</td>\n",
              "    </tr>\n",
              "    <tr>\n",
              "      <th>4</th>\n",
              "      <td>5</td>\n",
              "      <td>Sedgley Woods Disc Golf Course</td>\n",
              "      <td>East Fairmount Park</td>\n",
              "      <td>Y</td>\n",
              "      <td>NaN</td>\n",
              "      <td>Sedgley Woods</td>\n",
              "      <td></td>\n",
              "      <td>3013</td>\n",
              "      <td>3400 RESERVOIR DR</td>\n",
              "      <td>19121</td>\n",
              "      <td>...</td>\n",
              "      <td>NaN</td>\n",
              "      <td>5</td>\n",
              "      <td>4</td>\n",
              "      <td>22</td>\n",
              "      <td>Y</td>\n",
              "      <td>Y</td>\n",
              "      <td>N</td>\n",
              "      <td>NaN</td>\n",
              "      <td>210135.566406</td>\n",
              "      <td>1984.375466</td>\n",
              "    </tr>\n",
              "  </tbody>\n",
              "</table>\n",
              "<p>5 rows × 25 columns</p>\n",
              "</div>\n",
              "      <button class=\"colab-df-convert\" onclick=\"convertToInteractive('df-e498f86f-5ff8-40c9-b5ec-8573b3816f3f')\"\n",
              "              title=\"Convert this dataframe to an interactive table.\"\n",
              "              style=\"display:none;\">\n",
              "        \n",
              "  <svg xmlns=\"http://www.w3.org/2000/svg\" height=\"24px\"viewBox=\"0 0 24 24\"\n",
              "       width=\"24px\">\n",
              "    <path d=\"M0 0h24v24H0V0z\" fill=\"none\"/>\n",
              "    <path d=\"M18.56 5.44l.94 2.06.94-2.06 2.06-.94-2.06-.94-.94-2.06-.94 2.06-2.06.94zm-11 1L8.5 8.5l.94-2.06 2.06-.94-2.06-.94L8.5 2.5l-.94 2.06-2.06.94zm10 10l.94 2.06.94-2.06 2.06-.94-2.06-.94-.94-2.06-.94 2.06-2.06.94z\"/><path d=\"M17.41 7.96l-1.37-1.37c-.4-.4-.92-.59-1.43-.59-.52 0-1.04.2-1.43.59L10.3 9.45l-7.72 7.72c-.78.78-.78 2.05 0 2.83L4 21.41c.39.39.9.59 1.41.59.51 0 1.02-.2 1.41-.59l7.78-7.78 2.81-2.81c.8-.78.8-2.07 0-2.86zM5.41 20L4 18.59l7.72-7.72 1.47 1.35L5.41 20z\"/>\n",
              "  </svg>\n",
              "      </button>\n",
              "      \n",
              "  <style>\n",
              "    .colab-df-container {\n",
              "      display:flex;\n",
              "      flex-wrap:wrap;\n",
              "      gap: 12px;\n",
              "    }\n",
              "\n",
              "    .colab-df-convert {\n",
              "      background-color: #E8F0FE;\n",
              "      border: none;\n",
              "      border-radius: 50%;\n",
              "      cursor: pointer;\n",
              "      display: none;\n",
              "      fill: #1967D2;\n",
              "      height: 32px;\n",
              "      padding: 0 0 0 0;\n",
              "      width: 32px;\n",
              "    }\n",
              "\n",
              "    .colab-df-convert:hover {\n",
              "      background-color: #E2EBFA;\n",
              "      box-shadow: 0px 1px 2px rgba(60, 64, 67, 0.3), 0px 1px 3px 1px rgba(60, 64, 67, 0.15);\n",
              "      fill: #174EA6;\n",
              "    }\n",
              "\n",
              "    [theme=dark] .colab-df-convert {\n",
              "      background-color: #3B4455;\n",
              "      fill: #D2E3FC;\n",
              "    }\n",
              "\n",
              "    [theme=dark] .colab-df-convert:hover {\n",
              "      background-color: #434B5C;\n",
              "      box-shadow: 0px 1px 3px 1px rgba(0, 0, 0, 0.15);\n",
              "      filter: drop-shadow(0px 1px 2px rgba(0, 0, 0, 0.3));\n",
              "      fill: #FFFFFF;\n",
              "    }\n",
              "  </style>\n",
              "\n",
              "      <script>\n",
              "        const buttonEl =\n",
              "          document.querySelector('#df-e498f86f-5ff8-40c9-b5ec-8573b3816f3f button.colab-df-convert');\n",
              "        buttonEl.style.display =\n",
              "          google.colab.kernel.accessAllowed ? 'block' : 'none';\n",
              "\n",
              "        async function convertToInteractive(key) {\n",
              "          const element = document.querySelector('#df-e498f86f-5ff8-40c9-b5ec-8573b3816f3f');\n",
              "          const dataTable =\n",
              "            await google.colab.kernel.invokeFunction('convertToInteractive',\n",
              "                                                     [key], {});\n",
              "          if (!dataTable) return;\n",
              "\n",
              "          const docLinkHtml = 'Like what you see? Visit the ' +\n",
              "            '<a target=\"_blank\" href=https://colab.research.google.com/notebooks/data_table.ipynb>data table notebook</a>'\n",
              "            + ' to learn more about interactive tables.';\n",
              "          element.innerHTML = '';\n",
              "          dataTable['output_type'] = 'display_data';\n",
              "          await google.colab.output.renderOutput(dataTable, element);\n",
              "          const docLink = document.createElement('div');\n",
              "          docLink.innerHTML = docLinkHtml;\n",
              "          element.appendChild(docLink);\n",
              "        }\n",
              "      </script>\n",
              "    </div>\n",
              "  </div>\n",
              "  "
            ]
          },
          "metadata": {},
          "execution_count": 70
        }
      ]
    },
    {
      "cell_type": "code",
      "source": [
        "# show the end of the dataframe (the last 5 rows)\n",
        "pparks.tail()"
      ],
      "metadata": {
        "colab": {
          "base_uri": "https://localhost:8080/",
          "height": 508
        },
        "id": "RLD_r2_6-tmA",
        "outputId": "cb65336b-1c62-46e2-c2bc-eb7528156521"
      },
      "execution_count": 71,
      "outputs": [
        {
          "output_type": "execute_result",
          "data": {
            "text/plain": [
              "     OBJECTID                        PUBLIC_NAME  \\\n",
              "509       524                  Tacony Creek Park   \n",
              "510       525     Franklin Delano Roosevelt Park   \n",
              "511       526                       Hunting Park   \n",
              "512       527  Awbury Park and Recreation Center   \n",
              "513       528                        Fisher Park   \n",
              "\n",
              "                           PARENT_NAME NESTED  \\\n",
              "509                  Tacony Creek Park      N   \n",
              "510     Franklin Delano Roosevelt Park      N   \n",
              "511                       Hunting Park      N   \n",
              "512  Awbury Park and Recreation Center      N   \n",
              "513                        Fisher Park      N   \n",
              "\n",
              "                            OFFICIAL_NAME              LABEL  \\\n",
              "509                     Tacony Creek Park  Tacony Creek Park   \n",
              "510  Franklin Delano Roosevelt (FDR) Park           FDR Park   \n",
              "511                                   NaN            Hunting   \n",
              "512     Awbury Park and Recreation Center             Awbury   \n",
              "513                           Fisher Park             Fisher   \n",
              "\n",
              "                                     ALIAS  DPP_ASSET_ID  \\\n",
              "509                         Brookwood Park          1961   \n",
              "510  League Island Park;The Lakes;FDR Park           231   \n",
              "511                                    NaN           845   \n",
              "512                                    NaN           604   \n",
              "513                                    NaN           679   \n",
              "\n",
              "                 ADDRESS_911  ZIP_CODE  ... PPR_DISTRICT PPR_OPS_DISTRICT  \\\n",
              "509                      NaN     19120  ...          NaN                3   \n",
              "510          3500 S BROAD ST     19145  ...          NaN                7   \n",
              "511  1101 W HUNTING PARK AVE     19140  ...          NaN                3   \n",
              "512         6101 ARDLEIGH ST     19138  ...          NaN                4   \n",
              "513         572 W SPENCER ST     19120  ...          NaN                3   \n",
              "\n",
              "     COUNCIL_DISTRICT    POLICE_DISTRICT CITY_SCALE_MAPS  LOCAL_SCALE_MAPS  \\\n",
              "509              7, 9  2, 15, 24, 25, 35               Y                 Y   \n",
              "510                 2                  1               Y                 Y   \n",
              "511                 5                 25               Y                 Y   \n",
              "512                 8                 14               Y                 Y   \n",
              "513                 9                 35               Y                 Y   \n",
              "\n",
              "    PROGRAM_SITES                      COMMENTS   Shape__Area Shape__Length  \n",
              "509             N                           NaN  1.385218e+06  19003.764664  \n",
              "510             N                           NaN  2.388505e+06   6568.830576  \n",
              "511             Y                           NaN  4.911561e+05   4036.792375  \n",
              "512             Y  Review the parcel boundaries  1.930695e+05   2019.278021  \n",
              "513             Y                           NaN  1.693630e+05   1798.578647  \n",
              "\n",
              "[5 rows x 25 columns]"
            ],
            "text/html": [
              "\n",
              "  <div id=\"df-5c8569f5-9658-47c3-81a7-164a0e915e95\">\n",
              "    <div class=\"colab-df-container\">\n",
              "      <div>\n",
              "<style scoped>\n",
              "    .dataframe tbody tr th:only-of-type {\n",
              "        vertical-align: middle;\n",
              "    }\n",
              "\n",
              "    .dataframe tbody tr th {\n",
              "        vertical-align: top;\n",
              "    }\n",
              "\n",
              "    .dataframe thead th {\n",
              "        text-align: right;\n",
              "    }\n",
              "</style>\n",
              "<table border=\"1\" class=\"dataframe\">\n",
              "  <thead>\n",
              "    <tr style=\"text-align: right;\">\n",
              "      <th></th>\n",
              "      <th>OBJECTID</th>\n",
              "      <th>PUBLIC_NAME</th>\n",
              "      <th>PARENT_NAME</th>\n",
              "      <th>NESTED</th>\n",
              "      <th>OFFICIAL_NAME</th>\n",
              "      <th>LABEL</th>\n",
              "      <th>ALIAS</th>\n",
              "      <th>DPP_ASSET_ID</th>\n",
              "      <th>ADDRESS_911</th>\n",
              "      <th>ZIP_CODE</th>\n",
              "      <th>...</th>\n",
              "      <th>PPR_DISTRICT</th>\n",
              "      <th>PPR_OPS_DISTRICT</th>\n",
              "      <th>COUNCIL_DISTRICT</th>\n",
              "      <th>POLICE_DISTRICT</th>\n",
              "      <th>CITY_SCALE_MAPS</th>\n",
              "      <th>LOCAL_SCALE_MAPS</th>\n",
              "      <th>PROGRAM_SITES</th>\n",
              "      <th>COMMENTS</th>\n",
              "      <th>Shape__Area</th>\n",
              "      <th>Shape__Length</th>\n",
              "    </tr>\n",
              "  </thead>\n",
              "  <tbody>\n",
              "    <tr>\n",
              "      <th>509</th>\n",
              "      <td>524</td>\n",
              "      <td>Tacony Creek Park</td>\n",
              "      <td>Tacony Creek Park</td>\n",
              "      <td>N</td>\n",
              "      <td>Tacony Creek Park</td>\n",
              "      <td>Tacony Creek Park</td>\n",
              "      <td>Brookwood Park</td>\n",
              "      <td>1961</td>\n",
              "      <td>NaN</td>\n",
              "      <td>19120</td>\n",
              "      <td>...</td>\n",
              "      <td>NaN</td>\n",
              "      <td>3</td>\n",
              "      <td>7, 9</td>\n",
              "      <td>2, 15, 24, 25, 35</td>\n",
              "      <td>Y</td>\n",
              "      <td>Y</td>\n",
              "      <td>N</td>\n",
              "      <td>NaN</td>\n",
              "      <td>1.385218e+06</td>\n",
              "      <td>19003.764664</td>\n",
              "    </tr>\n",
              "    <tr>\n",
              "      <th>510</th>\n",
              "      <td>525</td>\n",
              "      <td>Franklin Delano Roosevelt Park</td>\n",
              "      <td>Franklin Delano Roosevelt Park</td>\n",
              "      <td>N</td>\n",
              "      <td>Franklin Delano Roosevelt (FDR) Park</td>\n",
              "      <td>FDR Park</td>\n",
              "      <td>League Island Park;The Lakes;FDR Park</td>\n",
              "      <td>231</td>\n",
              "      <td>3500 S BROAD ST</td>\n",
              "      <td>19145</td>\n",
              "      <td>...</td>\n",
              "      <td>NaN</td>\n",
              "      <td>7</td>\n",
              "      <td>2</td>\n",
              "      <td>1</td>\n",
              "      <td>Y</td>\n",
              "      <td>Y</td>\n",
              "      <td>N</td>\n",
              "      <td>NaN</td>\n",
              "      <td>2.388505e+06</td>\n",
              "      <td>6568.830576</td>\n",
              "    </tr>\n",
              "    <tr>\n",
              "      <th>511</th>\n",
              "      <td>526</td>\n",
              "      <td>Hunting Park</td>\n",
              "      <td>Hunting Park</td>\n",
              "      <td>N</td>\n",
              "      <td>NaN</td>\n",
              "      <td>Hunting</td>\n",
              "      <td>NaN</td>\n",
              "      <td>845</td>\n",
              "      <td>1101 W HUNTING PARK AVE</td>\n",
              "      <td>19140</td>\n",
              "      <td>...</td>\n",
              "      <td>NaN</td>\n",
              "      <td>3</td>\n",
              "      <td>5</td>\n",
              "      <td>25</td>\n",
              "      <td>Y</td>\n",
              "      <td>Y</td>\n",
              "      <td>Y</td>\n",
              "      <td>NaN</td>\n",
              "      <td>4.911561e+05</td>\n",
              "      <td>4036.792375</td>\n",
              "    </tr>\n",
              "    <tr>\n",
              "      <th>512</th>\n",
              "      <td>527</td>\n",
              "      <td>Awbury Park and Recreation Center</td>\n",
              "      <td>Awbury Park and Recreation Center</td>\n",
              "      <td>N</td>\n",
              "      <td>Awbury Park and Recreation Center</td>\n",
              "      <td>Awbury</td>\n",
              "      <td>NaN</td>\n",
              "      <td>604</td>\n",
              "      <td>6101 ARDLEIGH ST</td>\n",
              "      <td>19138</td>\n",
              "      <td>...</td>\n",
              "      <td>NaN</td>\n",
              "      <td>4</td>\n",
              "      <td>8</td>\n",
              "      <td>14</td>\n",
              "      <td>Y</td>\n",
              "      <td>Y</td>\n",
              "      <td>Y</td>\n",
              "      <td>Review the parcel boundaries</td>\n",
              "      <td>1.930695e+05</td>\n",
              "      <td>2019.278021</td>\n",
              "    </tr>\n",
              "    <tr>\n",
              "      <th>513</th>\n",
              "      <td>528</td>\n",
              "      <td>Fisher Park</td>\n",
              "      <td>Fisher Park</td>\n",
              "      <td>N</td>\n",
              "      <td>Fisher Park</td>\n",
              "      <td>Fisher</td>\n",
              "      <td>NaN</td>\n",
              "      <td>679</td>\n",
              "      <td>572 W SPENCER ST</td>\n",
              "      <td>19120</td>\n",
              "      <td>...</td>\n",
              "      <td>NaN</td>\n",
              "      <td>3</td>\n",
              "      <td>9</td>\n",
              "      <td>35</td>\n",
              "      <td>Y</td>\n",
              "      <td>Y</td>\n",
              "      <td>Y</td>\n",
              "      <td>NaN</td>\n",
              "      <td>1.693630e+05</td>\n",
              "      <td>1798.578647</td>\n",
              "    </tr>\n",
              "  </tbody>\n",
              "</table>\n",
              "<p>5 rows × 25 columns</p>\n",
              "</div>\n",
              "      <button class=\"colab-df-convert\" onclick=\"convertToInteractive('df-5c8569f5-9658-47c3-81a7-164a0e915e95')\"\n",
              "              title=\"Convert this dataframe to an interactive table.\"\n",
              "              style=\"display:none;\">\n",
              "        \n",
              "  <svg xmlns=\"http://www.w3.org/2000/svg\" height=\"24px\"viewBox=\"0 0 24 24\"\n",
              "       width=\"24px\">\n",
              "    <path d=\"M0 0h24v24H0V0z\" fill=\"none\"/>\n",
              "    <path d=\"M18.56 5.44l.94 2.06.94-2.06 2.06-.94-2.06-.94-.94-2.06-.94 2.06-2.06.94zm-11 1L8.5 8.5l.94-2.06 2.06-.94-2.06-.94L8.5 2.5l-.94 2.06-2.06.94zm10 10l.94 2.06.94-2.06 2.06-.94-2.06-.94-.94-2.06-.94 2.06-2.06.94z\"/><path d=\"M17.41 7.96l-1.37-1.37c-.4-.4-.92-.59-1.43-.59-.52 0-1.04.2-1.43.59L10.3 9.45l-7.72 7.72c-.78.78-.78 2.05 0 2.83L4 21.41c.39.39.9.59 1.41.59.51 0 1.02-.2 1.41-.59l7.78-7.78 2.81-2.81c.8-.78.8-2.07 0-2.86zM5.41 20L4 18.59l7.72-7.72 1.47 1.35L5.41 20z\"/>\n",
              "  </svg>\n",
              "      </button>\n",
              "      \n",
              "  <style>\n",
              "    .colab-df-container {\n",
              "      display:flex;\n",
              "      flex-wrap:wrap;\n",
              "      gap: 12px;\n",
              "    }\n",
              "\n",
              "    .colab-df-convert {\n",
              "      background-color: #E8F0FE;\n",
              "      border: none;\n",
              "      border-radius: 50%;\n",
              "      cursor: pointer;\n",
              "      display: none;\n",
              "      fill: #1967D2;\n",
              "      height: 32px;\n",
              "      padding: 0 0 0 0;\n",
              "      width: 32px;\n",
              "    }\n",
              "\n",
              "    .colab-df-convert:hover {\n",
              "      background-color: #E2EBFA;\n",
              "      box-shadow: 0px 1px 2px rgba(60, 64, 67, 0.3), 0px 1px 3px 1px rgba(60, 64, 67, 0.15);\n",
              "      fill: #174EA6;\n",
              "    }\n",
              "\n",
              "    [theme=dark] .colab-df-convert {\n",
              "      background-color: #3B4455;\n",
              "      fill: #D2E3FC;\n",
              "    }\n",
              "\n",
              "    [theme=dark] .colab-df-convert:hover {\n",
              "      background-color: #434B5C;\n",
              "      box-shadow: 0px 1px 3px 1px rgba(0, 0, 0, 0.15);\n",
              "      filter: drop-shadow(0px 1px 2px rgba(0, 0, 0, 0.3));\n",
              "      fill: #FFFFFF;\n",
              "    }\n",
              "  </style>\n",
              "\n",
              "      <script>\n",
              "        const buttonEl =\n",
              "          document.querySelector('#df-5c8569f5-9658-47c3-81a7-164a0e915e95 button.colab-df-convert');\n",
              "        buttonEl.style.display =\n",
              "          google.colab.kernel.accessAllowed ? 'block' : 'none';\n",
              "\n",
              "        async function convertToInteractive(key) {\n",
              "          const element = document.querySelector('#df-5c8569f5-9658-47c3-81a7-164a0e915e95');\n",
              "          const dataTable =\n",
              "            await google.colab.kernel.invokeFunction('convertToInteractive',\n",
              "                                                     [key], {});\n",
              "          if (!dataTable) return;\n",
              "\n",
              "          const docLinkHtml = 'Like what you see? Visit the ' +\n",
              "            '<a target=\"_blank\" href=https://colab.research.google.com/notebooks/data_table.ipynb>data table notebook</a>'\n",
              "            + ' to learn more about interactive tables.';\n",
              "          element.innerHTML = '';\n",
              "          dataTable['output_type'] = 'display_data';\n",
              "          await google.colab.output.renderOutput(dataTable, element);\n",
              "          const docLink = document.createElement('div');\n",
              "          docLink.innerHTML = docLinkHtml;\n",
              "          element.appendChild(docLink);\n",
              "        }\n",
              "      </script>\n",
              "    </div>\n",
              "  </div>\n",
              "  "
            ]
          },
          "metadata": {},
          "execution_count": 71
        }
      ]
    },
    {
      "cell_type": "markdown",
      "source": [],
      "metadata": {
        "id": "7XQFKPWkAs1N"
      }
    },
    {
      "cell_type": "markdown",
      "metadata": {
        "id": "EyfxxJTQ1oKR"
      },
      "source": [
        "## meausre the central tendency of the Philly park sizes\n",
        "measure the mean and the median and compare them"
      ]
    },
    {
      "cell_type": "code",
      "source": [
        "meanps = pparks['ACREAGE'].mean()\n",
        "meanps"
      ],
      "metadata": {
        "id": "euH8v32xCzlm",
        "outputId": "b97d80b8-3fe6-4d15-e6e9-1f24e9696d80",
        "colab": {
          "base_uri": "https://localhost:8080/"
        }
      },
      "execution_count": 72,
      "outputs": [
        {
          "output_type": "execute_result",
          "data": {
            "text/plain": [
              "19.71751187344358"
            ]
          },
          "metadata": {},
          "execution_count": 72
        }
      ]
    },
    {
      "cell_type": "code",
      "source": [
        "# show the mean and median sizes of the dataframe \n",
        "median = pparks['ACREAGE'].median()\n",
        "mean = pparks['ACREAGE'].mean()\n",
        "\n",
        "# are they the same? \n",
        "\n",
        "\n",
        "# Printing the mean and median\n",
        "\n",
        "print(\"The mean and median are:\", mean, median, \"respectively.\")\n"
      ],
      "metadata": {
        "colab": {
          "base_uri": "https://localhost:8080/"
        },
        "id": "aqRpJYTiCMy-",
        "outputId": "196fac52-497a-48cb-bfcf-80add5ceb6bc"
      },
      "execution_count": 73,
      "outputs": [
        {
          "output_type": "stream",
          "name": "stdout",
          "text": [
            "The mean and median are: 19.71751187344358 3.399723845 respectively.\n"
          ]
        }
      ]
    },
    {
      "cell_type": "markdown",
      "source": [
        "1. what can you conclude from the values of the mean and median you extracted? (discuss in a text cell below)\n",
        "\n",
        "2. What can you say about the distribution of the ACREAGE variable in the data? \n",
        "\n",
        "\n",
        "\n"
      ],
      "metadata": {
        "id": "Jfu_AxT9DY-U"
      }
    },
    {
      "cell_type": "markdown",
      "source": [
        "1. The mean and median values are different.\n",
        "2. The values in Acreage are not normally distributed because the mean is greater than the median."
      ],
      "metadata": {
        "id": "0QPzSz5hbWED"
      }
    },
    {
      "cell_type": "markdown",
      "source": [
        "hint: to plot a line over the histogram use pl.axvline(x=myx) and pass to this function the x value corresponding to the mean and to the median (in my example that would be called myx). As a default, this will plot a line that spanns the whole y range"
      ],
      "metadata": {
        "id": "IGkSdkRvGDkd"
      }
    },
    {
      "cell_type": "markdown",
      "source": [
        "hint: you can import the plotting package matplotlib.pylab and call pylab functions as \n",
        "```pl.plot()```\n",
        "```pl.axvline()```\n",
        "```pl.xlabel```\n",
        "\n",
        "or you can create a figure with the first command starting from the pandas dataframe as\n",
        "```ax = pparks[\"ACREAGE\"].hist()```\n",
        "\n",
        "and then use methods specific of the axis object ```ax```: ```ax.plot()``` ```ax.axvline()``` ```ax.set_xlabel```\n",
        "\n",
        "most of the commands are the same or have small differences (e.g. ```ax.set_xlabel``` instead of ```pl.xlabel```)"
      ],
      "metadata": {
        "id": "Ky_fv5EiGE01"
      }
    },
    {
      "cell_type": "code",
      "source": [
        "# visualize a histogram of the park size. \n",
        "# you can use the method of the ACREAGE column .hist()\n",
        "# choose an appropriate number of bins with the argument bins=\n",
        "\n",
        "ax =pparks['ACREAGE'].hist()\n",
        "ax.set_xlabel(\"Acreage\")\n",
        "ax.set_ylabel(\"Frequency\")\n",
        "ax.set_title(\"Acreage Distribution\")\n",
        "ax.plot()\n",
        "\n",
        "\n",
        "# overplot on the histogram the mean and the median of the distribution\n",
        "ax.axvline(mean, color=\"green\", linestyle=\"solid\", linewidth=2, alpha=1)\n",
        "ax.axvline(median, color=\"orange\", linestyle=\"solid\", linewidth=2, alpha=1)\n",
        "\n",
        "\n",
        "#to get the legend to render pass to axvline the argument label=\"...\" with ... being whatever you want displayed\n",
        "ax.legend([mean,median], labels=[\"Mean\",\"Median\"])"
      ],
      "metadata": {
        "colab": {
          "base_uri": "https://localhost:8080/",
          "height": 349
        },
        "id": "dVanccoKFkIe",
        "outputId": "b0ba614c-c6ea-4443-809c-a8ff8617fbeb"
      },
      "execution_count": 74,
      "outputs": [
        {
          "output_type": "stream",
          "name": "stderr",
          "text": [
            "<ipython-input-74-446ec88247a4>:18: UserWarning: You have mixed positional and keyword arguments, some input may be discarded.\n",
            "  ax.legend([mean,median], labels=[\"Mean\",\"Median\"])\n"
          ]
        },
        {
          "output_type": "execute_result",
          "data": {
            "text/plain": [
              "<matplotlib.legend.Legend at 0x7f079085ed30>"
            ]
          },
          "metadata": {},
          "execution_count": 74
        },
        {
          "output_type": "display_data",
          "data": {
            "text/plain": [
              "<Figure size 432x288 with 1 Axes>"
            ],
            "image/png": "[encoded data removed]"
          },
          "metadata": {
            "needs_background": "light"
          }
        }
      ]
    },
    {
      "cell_type": "markdown",
      "source": [
        "3. Describe what the graph mean\n",
        "\n"
      ],
      "metadata": {
        "id": "y50ST3broab4"
      }
    },
    {
      "cell_type": "markdown",
      "source": [
        "The graph shows that the mean is greater than the median"
      ],
      "metadata": {
        "id": "c2v8CJfYjT9y"
      }
    },
    {
      "cell_type": "markdown",
      "metadata": {
        "id": "VlJDAh6s1ESG"
      },
      "source": [
        "## 4. what is the spread of park sizes?\n",
        "calculate the standard deviation of the park sized\n",
        "\n",
        "Remember to manage the decimal places"
      ]
    },
    {
      "cell_type": "code",
      "source": [
        "#Calculating the standard deviation of the park sizes\n",
        "stdps = pparks[\"ACREAGE\"].std()\n",
        "print(\"The standard deviation of the park sizes is\", stdps)"
      ],
      "metadata": {
        "colab": {
          "base_uri": "https://localhost:8080/"
        },
        "id": "GbXj8VrKqlR6",
        "outputId": "6f251a07-e5a3-490d-aef7-7df8f3fed25a"
      },
      "execution_count": 75,
      "outputs": [
        {
          "output_type": "stream",
          "name": "stdout",
          "text": [
            "The standard deviation of the park sizes is 110.61651349710864\n"
          ]
        }
      ]
    },
    {
      "cell_type": "markdown",
      "metadata": {
        "id": "3av2lwsDx3vu"
      },
      "source": [
        "### 5. select only a subset of the parks: the pasks smaller than 10 acres\n",
        "(you can do it similarly to the way we removed \"Unknown\" from the criminal arrests data in class: set a condition and use it to index the dataframe)\n",
        "\n",
        "calculate the mean and median and plot a histogram of the park sized with the mean and median indicated on the plot"
      ]
    },
    {
      "cell_type": "code",
      "source": [
        "# if you need help with this step do ask me about boolean arrays used as indices\n",
        "# and slicing of arrays and series! remember we have a slack channel #hw3\n",
        "\n",
        "ax = pparks[~(pparks[\"ACREAGE\"]==\"Unknown\")][\"ACREAGE\"].unique()\n",
        "smallparks = pparks.loc[pparks['ACREAGE'] < 10]\n",
        "smallparks.head()"
      ],
      "metadata": {
        "colab": {
          "base_uri": "https://localhost:8080/",
          "height": 508
        },
        "id": "JWaTtoPn2e14",
        "outputId": "1f8b14c1-af76-4904-8513-89e128febd50"
      },
      "execution_count": 76,
      "outputs": [
        {
          "output_type": "execute_result",
          "data": {
            "text/plain": [
              "   OBJECTID                           PUBLIC_NAME             PARENT_NAME  \\\n",
              "1         2              Whitby Avenue Playground        Cobbs Creek Park   \n",
              "2         3                29th and Passyunk Park  29th and Passyunk Park   \n",
              "3         4                 Price Street Play Lot   Price Street Play Lot   \n",
              "5         6                Robert Wilson III Park        Cobbs Creek Park   \n",
              "6         7  Rufus O Williams Memorial Playground        Cobbs Creek Park   \n",
              "\n",
              "  NESTED                          OFFICIAL_NAME              LABEL  \\\n",
              "1      Y                                    NaN             Whitby   \n",
              "2      N                                    NaN  29th and Passyunk   \n",
              "3      N                                    NaN           Price St   \n",
              "5      Y                 Robert Wilson III Park             Wilson   \n",
              "6      Y  Rufus O. Williams Memorial Playground         R Williams   \n",
              "\n",
              "                               ALIAS  DPP_ASSET_ID           ADDRESS_911  \\\n",
              "1                                             1372  1300 COBBS CREEK PKY   \n",
              "2                                              432   2827 W PASSYUNK AVE   \n",
              "3                                              826        185 W PRICE ST   \n",
              "5  61st and Baltimore Ave Playground          3454    6100 BALTIMORE AVE   \n",
              "6             Cobbs Creek Playground          2128   700 COBBS CREEK PKY   \n",
              "\n",
              "   ZIP_CODE  ... PPR_DISTRICT PPR_OPS_DISTRICT  COUNCIL_DISTRICT  \\\n",
              "1     19143  ...          NaN                8                 3   \n",
              "2     19145  ...          NaN                7                 2   \n",
              "3     19144  ...          NaN                4                 8   \n",
              "5     19143  ...          NaN                8                 3   \n",
              "6     19143  ...          NaN                8                 3   \n",
              "\n",
              "  POLICE_DISTRICT CITY_SCALE_MAPS  LOCAL_SCALE_MAPS PROGRAM_SITES  \\\n",
              "1              12               Y                 Y             Y   \n",
              "2               1               Y                 Y             Y   \n",
              "3              14               Y                 Y             N   \n",
              "5              12               Y                 Y             Y   \n",
              "6              18               Y                 Y             N   \n",
              "\n",
              "                                       COMMENTS   Shape__Area Shape__Length  \n",
              "1                                           NaN  38916.484375    949.498194  \n",
              "2                                           NaN   3830.242188    247.032048  \n",
              "3                                           NaN   1249.839844    143.734003  \n",
              "5  1911 Ordinance assigned to Department of Rec   8015.187500    360.391789  \n",
              "6                                           NaN  26413.429688    817.250366  \n",
              "\n",
              "[5 rows x 25 columns]"
            ],
            "text/html": [
              "\n",
              "  <div id=\"df-7c4c3429-7ad6-490b-95a0-1158ee93bc2d\">\n",
              "    <div class=\"colab-df-container\">\n",
              "      <div>\n",
              "<style scoped>\n",
              "    .dataframe tbody tr th:only-of-type {\n",
              "        vertical-align: middle;\n",
              "    }\n",
              "\n",
              "    .dataframe tbody tr th {\n",
              "        vertical-align: top;\n",
              "    }\n",
              "\n",
              "    .dataframe thead th {\n",
              "        text-align: right;\n",
              "    }\n",
              "</style>\n",
              "<table border=\"1\" class=\"dataframe\">\n",
              "  <thead>\n",
              "    <tr style=\"text-align: right;\">\n",
              "      <th></th>\n",
              "      <th>OBJECTID</th>\n",
              "      <th>PUBLIC_NAME</th>\n",
              "      <th>PARENT_NAME</th>\n",
              "      <th>NESTED</th>\n",
              "      <th>OFFICIAL_NAME</th>\n",
              "      <th>LABEL</th>\n",
              "      <th>ALIAS</th>\n",
              "      <th>DPP_ASSET_ID</th>\n",
              "      <th>ADDRESS_911</th>\n",
              "      <th>ZIP_CODE</th>\n",
              "      <th>...</th>\n",
              "      <th>PPR_DISTRICT</th>\n",
              "      <th>PPR_OPS_DISTRICT</th>\n",
              "      <th>COUNCIL_DISTRICT</th>\n",
              "      <th>POLICE_DISTRICT</th>\n",
              "      <th>CITY_SCALE_MAPS</th>\n",
              "      <th>LOCAL_SCALE_MAPS</th>\n",
              "      <th>PROGRAM_SITES</th>\n",
              "      <th>COMMENTS</th>\n",
              "      <th>Shape__Area</th>\n",
              "      <th>Shape__Length</th>\n",
              "    </tr>\n",
              "  </thead>\n",
              "  <tbody>\n",
              "    <tr>\n",
              "      <th>1</th>\n",
              "      <td>2</td>\n",
              "      <td>Whitby Avenue Playground</td>\n",
              "      <td>Cobbs Creek Park</td>\n",
              "      <td>Y</td>\n",
              "      <td>NaN</td>\n",
              "      <td>Whitby</td>\n",
              "      <td></td>\n",
              "      <td>1372</td>\n",
              "      <td>1300 COBBS CREEK PKY</td>\n",
              "      <td>19143</td>\n",
              "      <td>...</td>\n",
              "      <td>NaN</td>\n",
              "      <td>8</td>\n",
              "      <td>3</td>\n",
              "      <td>12</td>\n",
              "      <td>Y</td>\n",
              "      <td>Y</td>\n",
              "      <td>Y</td>\n",
              "      <td>NaN</td>\n",
              "      <td>38916.484375</td>\n",
              "      <td>949.498194</td>\n",
              "    </tr>\n",
              "    <tr>\n",
              "      <th>2</th>\n",
              "      <td>3</td>\n",
              "      <td>29th and Passyunk Park</td>\n",
              "      <td>29th and Passyunk Park</td>\n",
              "      <td>N</td>\n",
              "      <td>NaN</td>\n",
              "      <td>29th and Passyunk</td>\n",
              "      <td></td>\n",
              "      <td>432</td>\n",
              "      <td>2827 W PASSYUNK AVE</td>\n",
              "      <td>19145</td>\n",
              "      <td>...</td>\n",
              "      <td>NaN</td>\n",
              "      <td>7</td>\n",
              "      <td>2</td>\n",
              "      <td>1</td>\n",
              "      <td>Y</td>\n",
              "      <td>Y</td>\n",
              "      <td>Y</td>\n",
              "      <td>NaN</td>\n",
              "      <td>3830.242188</td>\n",
              "      <td>247.032048</td>\n",
              "    </tr>\n",
              "    <tr>\n",
              "      <th>3</th>\n",
              "      <td>4</td>\n",
              "      <td>Price Street Play Lot</td>\n",
              "      <td>Price Street Play Lot</td>\n",
              "      <td>N</td>\n",
              "      <td>NaN</td>\n",
              "      <td>Price St</td>\n",
              "      <td></td>\n",
              "      <td>826</td>\n",
              "      <td>185 W PRICE ST</td>\n",
              "      <td>19144</td>\n",
              "      <td>...</td>\n",
              "      <td>NaN</td>\n",
              "      <td>4</td>\n",
              "      <td>8</td>\n",
              "      <td>14</td>\n",
              "      <td>Y</td>\n",
              "      <td>Y</td>\n",
              "      <td>N</td>\n",
              "      <td>NaN</td>\n",
              "      <td>1249.839844</td>\n",
              "      <td>143.734003</td>\n",
              "    </tr>\n",
              "    <tr>\n",
              "      <th>5</th>\n",
              "      <td>6</td>\n",
              "      <td>Robert Wilson III Park</td>\n",
              "      <td>Cobbs Creek Park</td>\n",
              "      <td>Y</td>\n",
              "      <td>Robert Wilson III Park</td>\n",
              "      <td>Wilson</td>\n",
              "      <td>61st and Baltimore Ave Playground</td>\n",
              "      <td>3454</td>\n",
              "      <td>6100 BALTIMORE AVE</td>\n",
              "      <td>19143</td>\n",
              "      <td>...</td>\n",
              "      <td>NaN</td>\n",
              "      <td>8</td>\n",
              "      <td>3</td>\n",
              "      <td>12</td>\n",
              "      <td>Y</td>\n",
              "      <td>Y</td>\n",
              "      <td>Y</td>\n",
              "      <td>1911 Ordinance assigned to Department of Rec</td>\n",
              "      <td>8015.187500</td>\n",
              "      <td>360.391789</td>\n",
              "    </tr>\n",
              "    <tr>\n",
              "      <th>6</th>\n",
              "      <td>7</td>\n",
              "      <td>Rufus O Williams Memorial Playground</td>\n",
              "      <td>Cobbs Creek Park</td>\n",
              "      <td>Y</td>\n",
              "      <td>Rufus O. Williams Memorial Playground</td>\n",
              "      <td>R Williams</td>\n",
              "      <td>Cobbs Creek Playground</td>\n",
              "      <td>2128</td>\n",
              "      <td>700 COBBS CREEK PKY</td>\n",
              "      <td>19143</td>\n",
              "      <td>...</td>\n",
              "      <td>NaN</td>\n",
              "      <td>8</td>\n",
              "      <td>3</td>\n",
              "      <td>18</td>\n",
              "      <td>Y</td>\n",
              "      <td>Y</td>\n",
              "      <td>N</td>\n",
              "      <td>NaN</td>\n",
              "      <td>26413.429688</td>\n",
              "      <td>817.250366</td>\n",
              "    </tr>\n",
              "  </tbody>\n",
              "</table>\n",
              "<p>5 rows × 25 columns</p>\n",
              "</div>\n",
              "      <button class=\"colab-df-convert\" onclick=\"convertToInteractive('df-7c4c3429-7ad6-490b-95a0-1158ee93bc2d')\"\n",
              "              title=\"Convert this dataframe to an interactive table.\"\n",
              "              style=\"display:none;\">\n",
              "        \n",
              "  <svg xmlns=\"http://www.w3.org/2000/svg\" height=\"24px\"viewBox=\"0 0 24 24\"\n",
              "       width=\"24px\">\n",
              "    <path d=\"M0 0h24v24H0V0z\" fill=\"none\"/>\n",
              "    <path d=\"M18.56 5.44l.94 2.06.94-2.06 2.06-.94-2.06-.94-.94-2.06-.94 2.06-2.06.94zm-11 1L8.5 8.5l.94-2.06 2.06-.94-2.06-.94L8.5 2.5l-.94 2.06-2.06.94zm10 10l.94 2.06.94-2.06 2.06-.94-2.06-.94-.94-2.06-.94 2.06-2.06.94z\"/><path d=\"M17.41 7.96l-1.37-1.37c-.4-.4-.92-.59-1.43-.59-.52 0-1.04.2-1.43.59L10.3 9.45l-7.72 7.72c-.78.78-.78 2.05 0 2.83L4 21.41c.39.39.9.59 1.41.59.51 0 1.02-.2 1.41-.59l7.78-7.78 2.81-2.81c.8-.78.8-2.07 0-2.86zM5.41 20L4 18.59l7.72-7.72 1.47 1.35L5.41 20z\"/>\n",
              "  </svg>\n",
              "      </button>\n",
              "      \n",
              "  <style>\n",
              "    .colab-df-container {\n",
              "      display:flex;\n",
              "      flex-wrap:wrap;\n",
              "      gap: 12px;\n",
              "    }\n",
              "\n",
              "    .colab-df-convert {\n",
              "      background-color: #E8F0FE;\n",
              "      border: none;\n",
              "      border-radius: 50%;\n",
              "      cursor: pointer;\n",
              "      display: none;\n",
              "      fill: #1967D2;\n",
              "      height: 32px;\n",
              "      padding: 0 0 0 0;\n",
              "      width: 32px;\n",
              "    }\n",
              "\n",
              "    .colab-df-convert:hover {\n",
              "      background-color: #E2EBFA;\n",
              "      box-shadow: 0px 1px 2px rgba(60, 64, 67, 0.3), 0px 1px 3px 1px rgba(60, 64, 67, 0.15);\n",
              "      fill: #174EA6;\n",
              "    }\n",
              "\n",
              "    [theme=dark] .colab-df-convert {\n",
              "      background-color: #3B4455;\n",
              "      fill: #D2E3FC;\n",
              "    }\n",
              "\n",
              "    [theme=dark] .colab-df-convert:hover {\n",
              "      background-color: #434B5C;\n",
              "      box-shadow: 0px 1px 3px 1px rgba(0, 0, 0, 0.15);\n",
              "      filter: drop-shadow(0px 1px 2px rgba(0, 0, 0, 0.3));\n",
              "      fill: #FFFFFF;\n",
              "    }\n",
              "  </style>\n",
              "\n",
              "      <script>\n",
              "        const buttonEl =\n",
              "          document.querySelector('#df-7c4c3429-7ad6-490b-95a0-1158ee93bc2d button.colab-df-convert');\n",
              "        buttonEl.style.display =\n",
              "          google.colab.kernel.accessAllowed ? 'block' : 'none';\n",
              "\n",
              "        async function convertToInteractive(key) {\n",
              "          const element = document.querySelector('#df-7c4c3429-7ad6-490b-95a0-1158ee93bc2d');\n",
              "          const dataTable =\n",
              "            await google.colab.kernel.invokeFunction('convertToInteractive',\n",
              "                                                     [key], {});\n",
              "          if (!dataTable) return;\n",
              "\n",
              "          const docLinkHtml = 'Like what you see? Visit the ' +\n",
              "            '<a target=\"_blank\" href=https://colab.research.google.com/notebooks/data_table.ipynb>data table notebook</a>'\n",
              "            + ' to learn more about interactive tables.';\n",
              "          element.innerHTML = '';\n",
              "          dataTable['output_type'] = 'display_data';\n",
              "          await google.colab.output.renderOutput(dataTable, element);\n",
              "          const docLink = document.createElement('div');\n",
              "          docLink.innerHTML = docLinkHtml;\n",
              "          element.appendChild(docLink);\n",
              "        }\n",
              "      </script>\n",
              "    </div>\n",
              "  </div>\n",
              "  "
            ]
          },
          "metadata": {},
          "execution_count": 76
        }
      ]
    },
    {
      "cell_type": "code",
      "source": [
        "#calculate the mean and median of the parks with size less than 10 acres\n",
        "small_mean = smallparks[\"ACREAGE\"].mean()\n",
        "small_median = smallparks[\"ACREAGE\"].median()\n",
        "print(\"The mean and median are:\", small_mean, small_median, \"respectively.\")"
      ],
      "metadata": {
        "colab": {
          "base_uri": "https://localhost:8080/"
        },
        "id": "yYFJA4Ny2Bir",
        "outputId": "f56b0f71-e246-4bf5-df7a-ab5e7a0cfbcb"
      },
      "execution_count": 77,
      "outputs": [
        {
          "output_type": "stream",
          "name": "stdout",
          "text": [
            "The mean and median are: 2.872673753842365 2.0584049149999997 respectively.\n"
          ]
        }
      ]
    },
    {
      "cell_type": "code",
      "source": [
        "#Plot a histogram of the parks with size less than 10 acres with the mean and median indicated on the plot\n",
        "ax =smallparks['ACREAGE'].hist()\n",
        "ax.set_xlabel(\"Frequency\")\n",
        "ax.set_ylabel(\"Acreage\")\n",
        "ax.set_title(\"Small Parks Acreage Distribution\")\n",
        "ax.plot()\n",
        "\n",
        "ax.axvline(small_mean, color=\"green\", linestyle=\"solid\", linewidth=2, alpha=1)\n",
        "ax.axvline(small_median, color=\"orange\", linestyle=\"solid\", linewidth=2, alpha=1)\n",
        "\n",
        "ax.legend([mean,median], labels=[\"Mean\",\"Median\"])"
      ],
      "metadata": {
        "colab": {
          "base_uri": "https://localhost:8080/",
          "height": 349
        },
        "id": "m29Bf6C-0EXa",
        "outputId": "9c98379f-8536-4218-b267-a354f7480543"
      },
      "execution_count": 78,
      "outputs": [
        {
          "output_type": "stream",
          "name": "stderr",
          "text": [
            "<ipython-input-78-e77bb3cf1a4a>:11: UserWarning: You have mixed positional and keyword arguments, some input may be discarded.\n",
            "  ax.legend([mean,median], labels=[\"Mean\",\"Median\"])\n"
          ]
        },
        {
          "output_type": "execute_result",
          "data": {
            "text/plain": [
              "<matplotlib.legend.Legend at 0x7f0790769940>"
            ]
          },
          "metadata": {},
          "execution_count": 78
        },
        {
          "output_type": "display_data",
          "data": {
            "text/plain": [
              "<Figure size 432x288 with 1 Axes>"
            ],
            "image/png": "[encoded data removed]"
          },
          "metadata": {
            "needs_background": "light"
          }
        }
      ]
    },
    {
      "cell_type": "markdown",
      "metadata": {
        "id": "34a6oAaM1DJG"
      },
      "source": [
        "\n",
        "6. Imagine that the reader has no access to my instructions, or to the code. What does this figure show? what should the reader note about the figure?\n",
        "\n",
        "The skewness is not normal because the mean is greater than the median.\n"
      ]
    },
    {
      "cell_type": "markdown",
      "metadata": {
        "id": "vPDVrnGb3xwF"
      },
      "source": [
        "\n",
        "The parks listed in each row are in some cases subsets of larger parks. The \"parent\" park is listed under PARENT_NAME. \n",
        "\n",
        "The challenge is to visualize the distribution of sizes of the  parent parks. To do that you have to aggregate the parks based on the \"PARENT_NAME\" value and sum the size of the parks. The methods of the dataframe you want to use are \n",
        "```.groupby()```\n",
        "and \n",
        "```.sum()```"
      ]
    },
    {
      "cell_type": "code",
      "source": [
        "# Grouping the Parks based on the parent name\n",
        "group_park = pparks.groupby(['PARENT_NAME']).sum()\n",
        "group_park"
      ],
      "metadata": {
        "colab": {
          "base_uri": "https://localhost:8080/",
          "height": 455
        },
        "id": "0MYyUURQ5rxw",
        "outputId": "3e68dfa2-45d2-452e-bb80-b4832c0a2514"
      },
      "execution_count": 79,
      "outputs": [
        {
          "output_type": "execute_result",
          "data": {
            "text/plain": [
              "                                   OBJECTID  DPP_ASSET_ID  ZIP_CODE  \\\n",
              "PARENT_NAME                                                           \n",
              "10th and Lemon Playground                22          2914     19123   \n",
              "11th and Cecil B Moore Playground       164          1135     19122   \n",
              "12th and Cambria Playground             242          1800     19133   \n",
              "18th and Jackson War Memorial           365          1215     19145   \n",
              "20th and Tioga Field                    273           573     19140   \n",
              "...                                     ...           ...       ...   \n",
              "Womrath Park                            244           120     19124   \n",
              "Wooden Bridge Run                        57          1632     19114   \n",
              "Woodside Park                           231          1840     19131   \n",
              "Woodward Pines                          284          2823     19118   \n",
              "Yorktown Commons                       2739         20997    114732   \n",
              "\n",
              "                                     ACREAGE  PPR_DISTRICT    Shape__Area  \\\n",
              "PARENT_NAME                                                                 \n",
              "10th and Lemon Playground           0.218885           0.0    1509.675781   \n",
              "11th and Cecil B Moore Playground   5.181666           0.0   35754.375000   \n",
              "12th and Cambria Playground         2.337374           0.0   16136.882812   \n",
              "18th and Jackson War Memorial       0.083383           0.0     574.429688   \n",
              "20th and Tioga Field                1.195232           0.0    8254.367188   \n",
              "...                                      ...           ...            ...   \n",
              "Womrath Park                        2.167680           0.0   14970.460938   \n",
              "Wooden Bridge Run                  49.095667           0.0  339623.484375   \n",
              "Woodside Park                       2.619728           0.0   18088.925781   \n",
              "Woodward Pines                      1.354531           0.0    9370.800781   \n",
              "Yorktown Commons                    0.776328           0.0    5356.140625   \n",
              "\n",
              "                                   Shape__Length  \n",
              "PARENT_NAME                                       \n",
              "10th and Lemon Playground             169.494221  \n",
              "11th and Cecil B Moore Playground     755.891229  \n",
              "12th and Cambria Playground           542.995987  \n",
              "18th and Jackson War Memorial         148.363162  \n",
              "20th and Tioga Field                  365.439378  \n",
              "...                                          ...  \n",
              "Womrath Park                          591.724807  \n",
              "Wooden Bridge Run                    4653.000056  \n",
              "Woodside Park                         615.286813  \n",
              "Woodward Pines                        755.404286  \n",
              "Yorktown Commons                      880.120482  \n",
              "\n",
              "[392 rows x 7 columns]"
            ],
            "text/html": [
              "\n",
              "  <div id=\"df-26ee5b61-3879-4a36-acc4-a544b8f509fe\">\n",
              "    <div class=\"colab-df-container\">\n",
              "      <div>\n",
              "<style scoped>\n",
              "    .dataframe tbody tr th:only-of-type {\n",
              "        vertical-align: middle;\n",
              "    }\n",
              "\n",
              "    .dataframe tbody tr th {\n",
              "        vertical-align: top;\n",
              "    }\n",
              "\n",
              "    .dataframe thead th {\n",
              "        text-align: right;\n",
              "    }\n",
              "</style>\n",
              "<table border=\"1\" class=\"dataframe\">\n",
              "  <thead>\n",
              "    <tr style=\"text-align: right;\">\n",
              "      <th></th>\n",
              "      <th>OBJECTID</th>\n",
              "      <th>DPP_ASSET_ID</th>\n",
              "      <th>ZIP_CODE</th>\n",
              "      <th>ACREAGE</th>\n",
              "      <th>PPR_DISTRICT</th>\n",
              "      <th>Shape__Area</th>\n",
              "      <th>Shape__Length</th>\n",
              "    </tr>\n",
              "    <tr>\n",
              "      <th>PARENT_NAME</th>\n",
              "      <th></th>\n",
              "      <th></th>\n",
              "      <th></th>\n",
              "      <th></th>\n",
              "      <th></th>\n",
              "      <th></th>\n",
              "      <th></th>\n",
              "    </tr>\n",
              "  </thead>\n",
              "  <tbody>\n",
              "    <tr>\n",
              "      <th>10th and Lemon Playground</th>\n",
              "      <td>22</td>\n",
              "      <td>2914</td>\n",
              "      <td>19123</td>\n",
              "      <td>0.218885</td>\n",
              "      <td>0.0</td>\n",
              "      <td>1509.675781</td>\n",
              "      <td>169.494221</td>\n",
              "    </tr>\n",
              "    <tr>\n",
              "      <th>11th and Cecil B Moore Playground</th>\n",
              "      <td>164</td>\n",
              "      <td>1135</td>\n",
              "      <td>19122</td>\n",
              "      <td>5.181666</td>\n",
              "      <td>0.0</td>\n",
              "      <td>35754.375000</td>\n",
              "      <td>755.891229</td>\n",
              "    </tr>\n",
              "    <tr>\n",
              "      <th>12th and Cambria Playground</th>\n",
              "      <td>242</td>\n",
              "      <td>1800</td>\n",
              "      <td>19133</td>\n",
              "      <td>2.337374</td>\n",
              "      <td>0.0</td>\n",
              "      <td>16136.882812</td>\n",
              "      <td>542.995987</td>\n",
              "    </tr>\n",
              "    <tr>\n",
              "      <th>18th and Jackson War Memorial</th>\n",
              "      <td>365</td>\n",
              "      <td>1215</td>\n",
              "      <td>19145</td>\n",
              "      <td>0.083383</td>\n",
              "      <td>0.0</td>\n",
              "      <td>574.429688</td>\n",
              "      <td>148.363162</td>\n",
              "    </tr>\n",
              "    <tr>\n",
              "      <th>20th and Tioga Field</th>\n",
              "      <td>273</td>\n",
              "      <td>573</td>\n",
              "      <td>19140</td>\n",
              "      <td>1.195232</td>\n",
              "      <td>0.0</td>\n",
              "      <td>8254.367188</td>\n",
              "      <td>365.439378</td>\n",
              "    </tr>\n",
              "    <tr>\n",
              "      <th>...</th>\n",
              "      <td>...</td>\n",
              "      <td>...</td>\n",
              "      <td>...</td>\n",
              "      <td>...</td>\n",
              "      <td>...</td>\n",
              "      <td>...</td>\n",
              "      <td>...</td>\n",
              "    </tr>\n",
              "    <tr>\n",
              "      <th>Womrath Park</th>\n",
              "      <td>244</td>\n",
              "      <td>120</td>\n",
              "      <td>19124</td>\n",
              "      <td>2.167680</td>\n",
              "      <td>0.0</td>\n",
              "      <td>14970.460938</td>\n",
              "      <td>591.724807</td>\n",
              "    </tr>\n",
              "    <tr>\n",
              "      <th>Wooden Bridge Run</th>\n",
              "      <td>57</td>\n",
              "      <td>1632</td>\n",
              "      <td>19114</td>\n",
              "      <td>49.095667</td>\n",
              "      <td>0.0</td>\n",
              "      <td>339623.484375</td>\n",
              "      <td>4653.000056</td>\n",
              "    </tr>\n",
              "    <tr>\n",
              "      <th>Woodside Park</th>\n",
              "      <td>231</td>\n",
              "      <td>1840</td>\n",
              "      <td>19131</td>\n",
              "      <td>2.619728</td>\n",
              "      <td>0.0</td>\n",
              "      <td>18088.925781</td>\n",
              "      <td>615.286813</td>\n",
              "    </tr>\n",
              "    <tr>\n",
              "      <th>Woodward Pines</th>\n",
              "      <td>284</td>\n",
              "      <td>2823</td>\n",
              "      <td>19118</td>\n",
              "      <td>1.354531</td>\n",
              "      <td>0.0</td>\n",
              "      <td>9370.800781</td>\n",
              "      <td>755.404286</td>\n",
              "    </tr>\n",
              "    <tr>\n",
              "      <th>Yorktown Commons</th>\n",
              "      <td>2739</td>\n",
              "      <td>20997</td>\n",
              "      <td>114732</td>\n",
              "      <td>0.776328</td>\n",
              "      <td>0.0</td>\n",
              "      <td>5356.140625</td>\n",
              "      <td>880.120482</td>\n",
              "    </tr>\n",
              "  </tbody>\n",
              "</table>\n",
              "<p>392 rows × 7 columns</p>\n",
              "</div>\n",
              "      <button class=\"colab-df-convert\" onclick=\"convertToInteractive('df-26ee5b61-3879-4a36-acc4-a544b8f509fe')\"\n",
              "              title=\"Convert this dataframe to an interactive table.\"\n",
              "              style=\"display:none;\">\n",
              "        \n",
              "  <svg xmlns=\"http://www.w3.org/2000/svg\" height=\"24px\"viewBox=\"0 0 24 24\"\n",
              "       width=\"24px\">\n",
              "    <path d=\"M0 0h24v24H0V0z\" fill=\"none\"/>\n",
              "    <path d=\"M18.56 5.44l.94 2.06.94-2.06 2.06-.94-2.06-.94-.94-2.06-.94 2.06-2.06.94zm-11 1L8.5 8.5l.94-2.06 2.06-.94-2.06-.94L8.5 2.5l-.94 2.06-2.06.94zm10 10l.94 2.06.94-2.06 2.06-.94-2.06-.94-.94-2.06-.94 2.06-2.06.94z\"/><path d=\"M17.41 7.96l-1.37-1.37c-.4-.4-.92-.59-1.43-.59-.52 0-1.04.2-1.43.59L10.3 9.45l-7.72 7.72c-.78.78-.78 2.05 0 2.83L4 21.41c.39.39.9.59 1.41.59.51 0 1.02-.2 1.41-.59l7.78-7.78 2.81-2.81c.8-.78.8-2.07 0-2.86zM5.41 20L4 18.59l7.72-7.72 1.47 1.35L5.41 20z\"/>\n",
              "  </svg>\n",
              "      </button>\n",
              "      \n",
              "  <style>\n",
              "    .colab-df-container {\n",
              "      display:flex;\n",
              "      flex-wrap:wrap;\n",
              "      gap: 12px;\n",
              "    }\n",
              "\n",
              "    .colab-df-convert {\n",
              "      background-color: #E8F0FE;\n",
              "      border: none;\n",
              "      border-radius: 50%;\n",
              "      cursor: pointer;\n",
              "      display: none;\n",
              "      fill: #1967D2;\n",
              "      height: 32px;\n",
              "      padding: 0 0 0 0;\n",
              "      width: 32px;\n",
              "    }\n",
              "\n",
              "    .colab-df-convert:hover {\n",
              "      background-color: #E2EBFA;\n",
              "      box-shadow: 0px 1px 2px rgba(60, 64, 67, 0.3), 0px 1px 3px 1px rgba(60, 64, 67, 0.15);\n",
              "      fill: #174EA6;\n",
              "    }\n",
              "\n",
              "    [theme=dark] .colab-df-convert {\n",
              "      background-color: #3B4455;\n",
              "      fill: #D2E3FC;\n",
              "    }\n",
              "\n",
              "    [theme=dark] .colab-df-convert:hover {\n",
              "      background-color: #434B5C;\n",
              "      box-shadow: 0px 1px 3px 1px rgba(0, 0, 0, 0.15);\n",
              "      filter: drop-shadow(0px 1px 2px rgba(0, 0, 0, 0.3));\n",
              "      fill: #FFFFFF;\n",
              "    }\n",
              "  </style>\n",
              "\n",
              "      <script>\n",
              "        const buttonEl =\n",
              "          document.querySelector('#df-26ee5b61-3879-4a36-acc4-a544b8f509fe button.colab-df-convert');\n",
              "        buttonEl.style.display =\n",
              "          google.colab.kernel.accessAllowed ? 'block' : 'none';\n",
              "\n",
              "        async function convertToInteractive(key) {\n",
              "          const element = document.querySelector('#df-26ee5b61-3879-4a36-acc4-a544b8f509fe');\n",
              "          const dataTable =\n",
              "            await google.colab.kernel.invokeFunction('convertToInteractive',\n",
              "                                                     [key], {});\n",
              "          if (!dataTable) return;\n",
              "\n",
              "          const docLinkHtml = 'Like what you see? Visit the ' +\n",
              "            '<a target=\"_blank\" href=https://colab.research.google.com/notebooks/data_table.ipynb>data table notebook</a>'\n",
              "            + ' to learn more about interactive tables.';\n",
              "          element.innerHTML = '';\n",
              "          dataTable['output_type'] = 'display_data';\n",
              "          await google.colab.output.renderOutput(dataTable, element);\n",
              "          const docLink = document.createElement('div');\n",
              "          docLink.innerHTML = docLinkHtml;\n",
              "          element.appendChild(docLink);\n",
              "        }\n",
              "      </script>\n",
              "    </div>\n",
              "  </div>\n",
              "  "
            ]
          },
          "metadata": {},
          "execution_count": 79
        }
      ]
    },
    {
      "cell_type": "markdown",
      "source": [
        "7 Using **sns.pairplot** plot the pairplot of ACREAGE\tand Shape__Area variables. What is the relationship that you can see?"
      ],
      "metadata": {
        "id": "MpCZ-uRZor2Y"
      }
    },
    {
      "cell_type": "code",
      "source": [
        "# Plotting pairplot \n",
        "import seaborn as sns\n",
        "new=[\"ACREAGE\", \"Shape__Area\"]\n",
        "pair = sns.pairplot(group_park[new], size=2.0)\n",
        "pair"
      ],
      "metadata": {
        "id": "sLqZq7KJpAz2",
        "outputId": "209e3eb3-94c3-42bf-ab9c-1aed267b06b2",
        "colab": {
          "base_uri": "https://localhost:8080/",
          "height": 357
        }
      },
      "execution_count": 80,
      "outputs": [
        {
          "output_type": "stream",
          "name": "stderr",
          "text": [
            "/usr/local/lib/python3.8/dist-packages/seaborn/axisgrid.py:2076: UserWarning: The `size` parameter has been renamed to `height`; please update your code.\n",
            "  warnings.warn(msg, UserWarning)\n"
          ]
        },
        {
          "output_type": "execute_result",
          "data": {
            "text/plain": [
              "<seaborn.axisgrid.PairGrid at 0x7f0790799f40>"
            ]
          },
          "metadata": {},
          "execution_count": 80
        },
        {
          "output_type": "display_data",
          "data": {
            "text/plain": [
              "<Figure size 288x288 with 6 Axes>"
            ],
            "image/png": "[encoded data removed]"
          },
          "metadata": {
            "needs_background": "light"
          }
        }
      ]
    },
    {
      "cell_type": "code",
      "source": [
        "#Visualize the distribution of the parks grouped by parent name \n",
        "# Calculate mean and median\n",
        "groupmean = group_park['ACREAGE'].mean()\n",
        "groupmedian = group_park['ACREAGE'].median()\n",
        "print('The Mean of the grouped Parks is:', groupmean)\n",
        "print('The Median of the grouped Parks is:', groupmedian)"
      ],
      "metadata": {
        "colab": {
          "base_uri": "https://localhost:8080/"
        },
        "id": "wLMl4Y2h6iIY",
        "outputId": "3af1512d-4e4c-4518-9b74-7a80b083617f"
      },
      "execution_count": 81,
      "outputs": [
        {
          "output_type": "stream",
          "name": "stdout",
          "text": [
            "The Mean of the grouped Parks is: 25.854084446301023\n",
            "The Median of the grouped Parks is: 2.94766104\n"
          ]
        }
      ]
    },
    {
      "cell_type": "markdown",
      "source": [
        "8. Visualize the distribution of the parks grouped by parent name"
      ],
      "metadata": {
        "id": "OQLjLl73nT6X"
      }
    },
    {
      "cell_type": "code",
      "metadata": {
        "id": "ukYunCxr-TwY",
        "colab": {
          "base_uri": "https://localhost:8080/",
          "height": 331
        },
        "outputId": "e5699d7d-d074-4488-8354-2c649255d47d"
      },
      "source": [
        "#Visualize the distribution of the parks grouped by parent name\n",
        "\n",
        "ax =group_park[\"ACREAGE\"].hist()\n",
        "\n",
        "ax.axvline(groupmean, color='red', linestyle='solid', linewidth=1.5, alpha = .8)\n",
        "ax.axvline(groupmedian, color='green', linestyle='solid', linewidth=1.5, alpha = .8)\n",
        "ax.legend([groupmean, groupmedian], labels = ['mean', 'median'])\n",
        "ax.set_xlabel('Park size in acres')\n",
        "ax.set_ylabel('Number of parks')\n",
        "\n",
        "pylab.title(\"Graph of acreage of parks grouped according to parent name\");"
      ],
      "execution_count": 82,
      "outputs": [
        {
          "output_type": "stream",
          "name": "stderr",
          "text": [
            "<ipython-input-82-72eadfac10c1>:7: UserWarning: You have mixed positional and keyword arguments, some input may be discarded.\n",
            "  ax.legend([groupmean, groupmedian], labels = ['mean', 'median'])\n"
          ]
        },
        {
          "output_type": "display_data",
          "data": {
            "text/plain": [
              "<Figure size 432x288 with 1 Axes>"
            ],
            "image/png": "[encoded data removed]"
          },
          "metadata": {
            "needs_background": "light"
          }
        }
      ]
    },
    {
      "cell_type": "markdown",
      "metadata": {
        "id": "OdMYUhIK7NY9"
      },
      "source": [
        "10. What could you measure about this new dataset obtained by grouping the data by PARENT_NAME that would allow you to investigate further the difference in the two dataset? "
      ]
    },
    {
      "cell_type": "code",
      "source": [
        "# Measuring the standard deviation of the group parks\n",
        "\n",
        "group_std=group_park[\"ACREAGE\"].std()\n",
        "\n",
        "print (\"The standard deviation of the grouped data set is\", group_std)"
      ],
      "metadata": {
        "colab": {
          "base_uri": "https://localhost:8080/"
        },
        "id": "lL_WTDmqAyvM",
        "outputId": "99f6811a-2b4c-449f-c4a7-8588ede762fa"
      },
      "execution_count": 83,
      "outputs": [
        {
          "output_type": "stream",
          "name": "stdout",
          "text": [
            "The standard deviation of the grouped data set is 150.6955622511643\n"
          ]
        }
      ]
    },
    {
      "cell_type": "markdown",
      "metadata": {
        "id": "nqlc8jq5zHR3"
      },
      "source": [
        "This standard deviation of the grouped dataset is way too large compared to the the original dataset. This potentially mean that there is more deviation or spread of the data when the parks are grouped by parent name."
      ]
    },
    {
      "cell_type": "markdown",
      "source": [
        "**END OF HOMEWORK**\n",
        "\n",
        "\n",
        "\n"
      ],
      "metadata": {
        "id": "QJ14L8wMn3Ev"
      }
    }
  ]
}